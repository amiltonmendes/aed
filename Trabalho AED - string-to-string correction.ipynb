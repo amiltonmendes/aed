{
 "cells": [
  {
   "cell_type": "markdown",
   "source": [
    "# Importação de bibliotecas"
   ],
   "metadata": {
    "collapsed": false,
    "pycharm": {
     "name": "#%% md\n"
    }
   }
  },
  {
   "cell_type": "code",
   "execution_count": 2,
   "outputs": [],
   "source": [
    "from src.estrategias.programacao_dinamica.lee_bypass import *\n",
    "import timeit\n",
    "import warnings\n",
    "warnings.filterwarnings('ignore')\n",
    "import os\n",
    "import sys\n",
    "from src.estrategias.genetic.genetic_task import *\n",
    "from src.estrategias.forca_bruta.brute_force_branch_no_bound import *\n",
    "from src.estrategias.branchbound.branchbound import *\n",
    "import pandas as pd\n",
    "\n",
    "import numpy as np, scipy.stats as st\n",
    "\n"
   ],
   "metadata": {
    "collapsed": false,
    "pycharm": {
     "name": "#%%\n"
    }
   }
  },
  {
   "cell_type": "code",
   "execution_count": 3,
   "outputs": [],
   "source": [
    "class AvaliacaoAlgoritmo:\n",
    "    \"\"\"\n",
    "    Classe para registrar o resultado das execuções de um algoritmo\n",
    "    \"\"\"\n",
    "\n",
    "    def __init__(self,quantidade_repeticoes,lista_parametros):\n",
    "        self.quantidade_repeticoes = quantidade_repeticoes\n",
    "        self.lista_parametros = lista_parametros\n",
    "    def retorna_resultados(self,funcao,nome_algoritmo):\n",
    "        data=[]\n",
    "        for parametro in self.lista_parametros:\n",
    "            for i in range(self.quantidade_repeticoes):\n",
    "                f = open(os.devnull, 'w')\n",
    "                antigo = sys.stdout\n",
    "                sys.stdout = f\n",
    "                starttime = timeit.default_timer()\n",
    "                funcao(*parametro)\n",
    "                interval =  timeit.default_timer() - starttime\n",
    "                sys.stdout = antigo\n",
    "                data.append([nome_algoritmo,parametro,interval])\n",
    "        retorno = pd.DataFrame(data=data,columns=['algoritmo','parametro','tempo'])\n",
    "        return retorno\n",
    "def gera_parametro(qnt_amostras,tam_palavra=0):\n",
    "    \"\"\"\n",
    "    Função para gerar parâmetros de forma ao problema de s2s correction ser np completo\n",
    "    :parameter qnt_amostras: quantidade de amostras a serem retornadas\n",
    "    :return:\n",
    "    \"\"\"\n",
    "    dados_np_completos = pd.read_csv('npcompleto.csv',sep=',')\n",
    "    if tam_palavra>0:\n",
    "        dados_np_completos=dados_np_completos[dados_np_completos.origem.apply(lambda x: len(str(x))<=tam_palavra)]\n",
    "    if qnt_amostras > 0:\n",
    "        amostra = dados_np_completos.sample(qnt_amostras)\n",
    "    else:\n",
    "        amostra = dados_np_completos\n",
    "\n",
    "    amostra = dados_np_completos.sample(qnt_amostras)\n",
    "    retorno = [(observacao.origem,observacao.destino) for observacao in amostra.itertuples()]\n",
    "    return retorno\n",
    "\n",
    "\n",
    "\n"
   ],
   "metadata": {
    "collapsed": false,
    "pycharm": {
     "name": "#%%\n"
    }
   }
  },
  {
   "cell_type": "markdown",
   "source": [
    "# Descrição do problema"
   ],
   "metadata": {
    "collapsed": false,
    "pycharm": {
     "name": "#%% md\n"
    }
   }
  },
  {
   "cell_type": "markdown",
   "source": [
    "# Abordagem Força Bruta"
   ],
   "metadata": {
    "collapsed": false
   }
  },
  {
   "cell_type": "code",
   "execution_count": 4,
   "outputs": [
    {
     "data": {
      "text/plain": "[('Elon', 'no')]"
     },
     "execution_count": 4,
     "metadata": {},
     "output_type": "execute_result"
    }
   ],
   "source": [
    "amostra = gera_parametro(1,4)\n",
    "amostra"
   ],
   "metadata": {
    "collapsed": false,
    "pycharm": {
     "name": "#%%\n"
    }
   }
  },
  {
   "cell_type": "code",
   "execution_count": 5,
   "outputs": [],
   "source": [
    "avaliacao = AvaliacaoAlgoritmo(30,amostra)\n",
    "df_forca_bruta = avaliacao.retorna_resultados(roda_brute,'Força Bruta')"
   ],
   "metadata": {
    "collapsed": false,
    "pycharm": {
     "name": "#%%\n"
    }
   }
  },
  {
   "cell_type": "code",
   "execution_count": 6,
   "outputs": [
    {
     "data": {
      "text/plain": "     algoritmo   parametro      tempo\n0  Força Bruta  (Elon, no)  48.966925\n1  Força Bruta  (Elon, no)  45.326385\n2  Força Bruta  (Elon, no)  70.819438\n3  Força Bruta  (Elon, no)  49.525538\n4  Força Bruta  (Elon, no)  42.138886",
      "text/html": "<div>\n<style scoped>\n    .dataframe tbody tr th:only-of-type {\n        vertical-align: middle;\n    }\n\n    .dataframe tbody tr th {\n        vertical-align: top;\n    }\n\n    .dataframe thead th {\n        text-align: right;\n    }\n</style>\n<table border=\"1\" class=\"dataframe\">\n  <thead>\n    <tr style=\"text-align: right;\">\n      <th></th>\n      <th>algoritmo</th>\n      <th>parametro</th>\n      <th>tempo</th>\n    </tr>\n  </thead>\n  <tbody>\n    <tr>\n      <th>0</th>\n      <td>Força Bruta</td>\n      <td>(Elon, no)</td>\n      <td>48.966925</td>\n    </tr>\n    <tr>\n      <th>1</th>\n      <td>Força Bruta</td>\n      <td>(Elon, no)</td>\n      <td>45.326385</td>\n    </tr>\n    <tr>\n      <th>2</th>\n      <td>Força Bruta</td>\n      <td>(Elon, no)</td>\n      <td>70.819438</td>\n    </tr>\n    <tr>\n      <th>3</th>\n      <td>Força Bruta</td>\n      <td>(Elon, no)</td>\n      <td>49.525538</td>\n    </tr>\n    <tr>\n      <th>4</th>\n      <td>Força Bruta</td>\n      <td>(Elon, no)</td>\n      <td>42.138886</td>\n    </tr>\n  </tbody>\n</table>\n</div>"
     },
     "execution_count": 6,
     "metadata": {},
     "output_type": "execute_result"
    }
   ],
   "source": [
    "df_forca_bruta.head()"
   ],
   "metadata": {
    "collapsed": false,
    "pycharm": {
     "name": "#%%\n"
    }
   }
  },
  {
   "cell_type": "code",
   "execution_count": 7,
   "outputs": [
    {
     "data": {
      "text/plain": "<AxesSubplot:>"
     },
     "execution_count": 7,
     "metadata": {},
     "output_type": "execute_result"
    },
    {
     "data": {
      "text/plain": "<Figure size 432x288 with 1 Axes>",
      "image/png": "[encoded data removed]"
     },
     "metadata": {
      "needs_background": "light"
     },
     "output_type": "display_data"
    }
   ],
   "source": [
    "df_forca_bruta[['tempo']].plot()"
   ],
   "metadata": {
    "collapsed": false,
    "pycharm": {
     "name": "#%%\n"
    }
   }
  },
  {
   "cell_type": "code",
   "execution_count": 8,
   "outputs": [],
   "source": [
    "df_forca_bruta.to_csv('resultados_forca_bruta.csv')"
   ],
   "metadata": {
    "collapsed": false,
    "pycharm": {
     "name": "#%%\n"
    }
   }
  },
  {
   "cell_type": "markdown",
   "source": [
    "#### Intervalo de confiança para a média de tempo do algoritmo de força bruta"
   ],
   "metadata": {
    "collapsed": false
   }
  },
  {
   "cell_type": "code",
   "execution_count": 9,
   "outputs": [
    {
     "data": {
      "text/plain": "(54.789591136830154, 65.3206120565032)"
     },
     "execution_count": 9,
     "metadata": {},
     "output_type": "execute_result"
    }
   ],
   "source": [
    "st.t.interval(0.95, len(df_forca_bruta['tempo'])-1, loc=np.mean(df_forca_bruta['tempo']), scale=st.sem(df_forca_bruta['tempo']))\n"
   ],
   "metadata": {
    "collapsed": false,
    "pycharm": {
     "name": "#%%\n"
    }
   }
  },
  {
   "cell_type": "markdown",
   "source": [
    "# Abordagem Branch and Bound"
   ],
   "metadata": {
    "collapsed": false
   }
  },
  {
   "cell_type": "code",
   "execution_count": 10,
   "outputs": [],
   "source": [
    "df_branch = avaliacao.retorna_resultados(roda_branch,'Branch and Bound')"
   ],
   "metadata": {
    "collapsed": false,
    "pycharm": {
     "name": "#%%\n"
    }
   }
  },
  {
   "cell_type": "code",
   "execution_count": 11,
   "outputs": [
    {
     "data": {
      "text/plain": "          algoritmo   parametro     tempo\n0  Branch and Bound  (Elon, no)  0.140239\n1  Branch and Bound  (Elon, no)  0.124263\n2  Branch and Bound  (Elon, no)  0.138320\n3  Branch and Bound  (Elon, no)  0.145707\n4  Branch and Bound  (Elon, no)  0.088253",
      "text/html": "<div>\n<style scoped>\n    .dataframe tbody tr th:only-of-type {\n        vertical-align: middle;\n    }\n\n    .dataframe tbody tr th {\n        vertical-align: top;\n    }\n\n    .dataframe thead th {\n        text-align: right;\n    }\n</style>\n<table border=\"1\" class=\"dataframe\">\n  <thead>\n    <tr style=\"text-align: right;\">\n      <th></th>\n      <th>algoritmo</th>\n      <th>parametro</th>\n      <th>tempo</th>\n    </tr>\n  </thead>\n  <tbody>\n    <tr>\n      <th>0</th>\n      <td>Branch and Bound</td>\n      <td>(Elon, no)</td>\n      <td>0.140239</td>\n    </tr>\n    <tr>\n      <th>1</th>\n      <td>Branch and Bound</td>\n      <td>(Elon, no)</td>\n      <td>0.124263</td>\n    </tr>\n    <tr>\n      <th>2</th>\n      <td>Branch and Bound</td>\n      <td>(Elon, no)</td>\n      <td>0.138320</td>\n    </tr>\n    <tr>\n      <th>3</th>\n      <td>Branch and Bound</td>\n      <td>(Elon, no)</td>\n      <td>0.145707</td>\n    </tr>\n    <tr>\n      <th>4</th>\n      <td>Branch and Bound</td>\n      <td>(Elon, no)</td>\n      <td>0.088253</td>\n    </tr>\n  </tbody>\n</table>\n</div>"
     },
     "execution_count": 11,
     "metadata": {},
     "output_type": "execute_result"
    }
   ],
   "source": [
    "df_branch.head()"
   ],
   "metadata": {
    "collapsed": false,
    "pycharm": {
     "name": "#%%\n"
    }
   }
  },
  {
   "cell_type": "code",
   "execution_count": 12,
   "outputs": [
    {
     "data": {
      "text/plain": "<AxesSubplot:>"
     },
     "execution_count": 12,
     "metadata": {},
     "output_type": "execute_result"
    },
    {
     "data": {
      "text/plain": "<Figure size 432x288 with 1 Axes>",
      "image/png": "[encoded data removed]"
     },
     "metadata": {
      "needs_background": "light"
     },
     "output_type": "display_data"
    }
   ],
   "source": [
    "df_branch[['tempo']].plot()"
   ],
   "metadata": {
    "collapsed": false,
    "pycharm": {
     "name": "#%%\n"
    }
   }
  },
  {
   "cell_type": "code",
   "execution_count": 13,
   "outputs": [],
   "source": [
    "df_branch.to_csv('resultados_brach_and_bound.csv')"
   ],
   "metadata": {
    "collapsed": false,
    "pycharm": {
     "name": "#%%\n"
    }
   }
  },
  {
   "cell_type": "markdown",
   "source": [
    "#### Intervalo de confiança para a média de tempo do algoritmo branch and bound"
   ],
   "metadata": {
    "collapsed": false
   }
  },
  {
   "cell_type": "code",
   "execution_count": 14,
   "outputs": [
    {
     "data": {
      "text/plain": "(0.06888347244137016, 0.09260878755866772)"
     },
     "execution_count": 14,
     "metadata": {},
     "output_type": "execute_result"
    }
   ],
   "source": [
    "st.t.interval(0.95, len(df_branch['tempo'])-1, loc=np.mean(df_branch['tempo']), scale=st.sem(df_branch['tempo']))"
   ],
   "metadata": {
    "collapsed": false,
    "pycharm": {
     "name": "#%%\n"
    }
   }
  },
  {
   "cell_type": "markdown",
   "source": [
    "# Abordagem de algoritmos de programação dinâmica"
   ],
   "metadata": {
    "collapsed": false
   }
  },
  {
   "cell_type": "code",
   "execution_count": 15,
   "outputs": [],
   "source": [
    "lee_algoritmo= LeeAlgorithm(20)"
   ],
   "metadata": {
    "collapsed": false,
    "pycharm": {
     "name": "#%%\n"
    }
   }
  },
  {
   "cell_type": "code",
   "execution_count": 16,
   "outputs": [],
   "source": [
    "df_programacao_dinamica = avaliacao.retorna_resultados(lee_algoritmo.roda_lee,'Programação dinâmica')"
   ],
   "metadata": {
    "collapsed": false,
    "pycharm": {
     "name": "#%%\n"
    }
   }
  },
  {
   "cell_type": "code",
   "execution_count": 17,
   "outputs": [
    {
     "data": {
      "text/plain": "              algoritmo   parametro     tempo\n0  Programação dinâmica  (Elon, no)  0.000086\n1  Programação dinâmica  (Elon, no)  0.000130\n2  Programação dinâmica  (Elon, no)  0.000192\n3  Programação dinâmica  (Elon, no)  0.000183\n4  Programação dinâmica  (Elon, no)  0.000073",
      "text/html": "<div>\n<style scoped>\n    .dataframe tbody tr th:only-of-type {\n        vertical-align: middle;\n    }\n\n    .dataframe tbody tr th {\n        vertical-align: top;\n    }\n\n    .dataframe thead th {\n        text-align: right;\n    }\n</style>\n<table border=\"1\" class=\"dataframe\">\n  <thead>\n    <tr style=\"text-align: right;\">\n      <th></th>\n      <th>algoritmo</th>\n      <th>parametro</th>\n      <th>tempo</th>\n    </tr>\n  </thead>\n  <tbody>\n    <tr>\n      <th>0</th>\n      <td>Programação dinâmica</td>\n      <td>(Elon, no)</td>\n      <td>0.000086</td>\n    </tr>\n    <tr>\n      <th>1</th>\n      <td>Programação dinâmica</td>\n      <td>(Elon, no)</td>\n      <td>0.000130</td>\n    </tr>\n    <tr>\n      <th>2</th>\n      <td>Programação dinâmica</td>\n      <td>(Elon, no)</td>\n      <td>0.000192</td>\n    </tr>\n    <tr>\n      <th>3</th>\n      <td>Programação dinâmica</td>\n      <td>(Elon, no)</td>\n      <td>0.000183</td>\n    </tr>\n    <tr>\n      <th>4</th>\n      <td>Programação dinâmica</td>\n      <td>(Elon, no)</td>\n      <td>0.000073</td>\n    </tr>\n  </tbody>\n</table>\n</div>"
     },
     "execution_count": 17,
     "metadata": {},
     "output_type": "execute_result"
    }
   ],
   "source": [
    "df_programacao_dinamica.head()"
   ],
   "metadata": {
    "collapsed": false,
    "pycharm": {
     "name": "#%%\n"
    }
   }
  },
  {
   "cell_type": "code",
   "execution_count": 18,
   "outputs": [
    {
     "data": {
      "text/plain": "<AxesSubplot:>"
     },
     "execution_count": 18,
     "metadata": {},
     "output_type": "execute_result"
    },
    {
     "data": {
      "text/plain": "<Figure size 432x288 with 1 Axes>",
      "image/png": "[encoded data removed]"
     },
     "metadata": {
      "needs_background": "light"
     },
     "output_type": "display_data"
    }
   ],
   "source": [
    "df_programacao_dinamica[['tempo']].plot()"
   ],
   "metadata": {
    "collapsed": false,
    "pycharm": {
     "name": "#%%\n"
    }
   }
  },
  {
   "cell_type": "code",
   "execution_count": 19,
   "outputs": [],
   "source": [
    "df_programacao_dinamica.to_csv('resultados_genetic.csv')"
   ],
   "metadata": {
    "collapsed": false,
    "pycharm": {
     "name": "#%%\n"
    }
   }
  },
  {
   "cell_type": "markdown",
   "source": [
    "#### Intervalo de confiança para a média de tempo do algoritmo de programação dinâmica"
   ],
   "metadata": {
    "collapsed": false
   }
  },
  {
   "cell_type": "code",
   "execution_count": 27,
   "outputs": [
    {
     "data": {
      "text/plain": "(7.199826744296984e-05, 9.766839922733965e-05)"
     },
     "execution_count": 27,
     "metadata": {},
     "output_type": "execute_result"
    }
   ],
   "source": [
    "st.t.interval(0.95, len(df_programacao_dinamica['tempo'])-1, loc=np.mean(df_programacao_dinamica['tempo']), scale=st.sem(df_programacao_dinamica['tempo']))"
   ],
   "metadata": {
    "collapsed": false,
    "pycharm": {
     "name": "#%%\n"
    }
   }
  },
  {
   "cell_type": "markdown",
   "source": [
    "# Abordagem de algoritmos genéticos (Metaheurística)"
   ],
   "metadata": {
    "collapsed": false,
    "pycharm": {
     "name": "#%% md\n"
    }
   }
  },
  {
   "cell_type": "code",
   "execution_count": 21,
   "outputs": [],
   "source": [
    "df_genetic = avaliacao.retorna_resultados(roda_genetic,'Genetic Algorithm')"
   ],
   "metadata": {
    "collapsed": false,
    "pycharm": {
     "name": "#%%\n"
    }
   }
  },
  {
   "cell_type": "code",
   "execution_count": 22,
   "outputs": [
    {
     "data": {
      "text/plain": "           algoritmo   parametro     tempo\n0  Genetic Algorithm  (Elon, no)  0.084701\n1  Genetic Algorithm  (Elon, no)  0.080289\n2  Genetic Algorithm  (Elon, no)  0.064281\n3  Genetic Algorithm  (Elon, no)  0.032223\n4  Genetic Algorithm  (Elon, no)  0.035024",
      "text/html": "<div>\n<style scoped>\n    .dataframe tbody tr th:only-of-type {\n        vertical-align: middle;\n    }\n\n    .dataframe tbody tr th {\n        vertical-align: top;\n    }\n\n    .dataframe thead th {\n        text-align: right;\n    }\n</style>\n<table border=\"1\" class=\"dataframe\">\n  <thead>\n    <tr style=\"text-align: right;\">\n      <th></th>\n      <th>algoritmo</th>\n      <th>parametro</th>\n      <th>tempo</th>\n    </tr>\n  </thead>\n  <tbody>\n    <tr>\n      <th>0</th>\n      <td>Genetic Algorithm</td>\n      <td>(Elon, no)</td>\n      <td>0.084701</td>\n    </tr>\n    <tr>\n      <th>1</th>\n      <td>Genetic Algorithm</td>\n      <td>(Elon, no)</td>\n      <td>0.080289</td>\n    </tr>\n    <tr>\n      <th>2</th>\n      <td>Genetic Algorithm</td>\n      <td>(Elon, no)</td>\n      <td>0.064281</td>\n    </tr>\n    <tr>\n      <th>3</th>\n      <td>Genetic Algorithm</td>\n      <td>(Elon, no)</td>\n      <td>0.032223</td>\n    </tr>\n    <tr>\n      <th>4</th>\n      <td>Genetic Algorithm</td>\n      <td>(Elon, no)</td>\n      <td>0.035024</td>\n    </tr>\n  </tbody>\n</table>\n</div>"
     },
     "execution_count": 22,
     "metadata": {},
     "output_type": "execute_result"
    }
   ],
   "source": [
    "df_genetic.head()"
   ],
   "metadata": {
    "collapsed": false,
    "pycharm": {
     "name": "#%%\n"
    }
   }
  },
  {
   "cell_type": "code",
   "execution_count": 23,
   "outputs": [
    {
     "data": {
      "text/plain": "<AxesSubplot:>"
     },
     "execution_count": 23,
     "metadata": {},
     "output_type": "execute_result"
    },
    {
     "data": {
      "text/plain": "<Figure size 432x288 with 1 Axes>",
      "image/png": "[encoded data removed]"
     },
     "metadata": {
      "needs_background": "light"
     },
     "output_type": "display_data"
    }
   ],
   "source": [
    "df_genetic[['tempo']].plot()"
   ],
   "metadata": {
    "collapsed": false,
    "pycharm": {
     "name": "#%%\n"
    }
   }
  },
  {
   "cell_type": "code",
   "execution_count": 24,
   "outputs": [],
   "source": [
    "df_genetic.to_csv('resultados_genetic.csv')"
   ],
   "metadata": {
    "collapsed": false,
    "pycharm": {
     "name": "#%%\n"
    }
   }
  },
  {
   "cell_type": "markdown",
   "source": [
    "#### Intervalo de confiança para a média de tempo do algoritmo genético"
   ],
   "metadata": {
    "collapsed": false,
    "pycharm": {
     "name": "#%% md\n"
    }
   }
  },
  {
   "cell_type": "code",
   "execution_count": 25,
   "outputs": [
    {
     "data": {
      "text/plain": "(0.03404283055422261, 0.04382596277910805)"
     },
     "execution_count": 25,
     "metadata": {},
     "output_type": "execute_result"
    }
   ],
   "source": [
    "st.t.interval(0.95, len(df_genetic['tempo'])-1, loc=np.mean(df_genetic['tempo']), scale=st.sem(df_genetic['tempo']))"
   ],
   "metadata": {
    "collapsed": false,
    "pycharm": {
     "name": "#%%\n"
    }
   }
  },
  {
   "cell_type": "code",
   "execution_count": null,
   "outputs": [],
   "source": [],
   "metadata": {
    "collapsed": false,
    "pycharm": {
     "name": "#%%\n"
    }
   }
  }
 ],
 "metadata": {
  "kernelspec": {
   "display_name": "Python 3",
   "language": "python",
   "name": "python3"
  },
  "language_info": {
   "codemirror_mode": {
    "name": "ipython",
    "version": 2
   },
   "file_extension": ".py",
   "mimetype": "text/x-python",
   "name": "python",
   "nbconvert_exporter": "python",
   "pygments_lexer": "ipython2",
   "version": "2.7.6"
  }
 },
 "nbformat": 4,
 "nbformat_minor": 0
}