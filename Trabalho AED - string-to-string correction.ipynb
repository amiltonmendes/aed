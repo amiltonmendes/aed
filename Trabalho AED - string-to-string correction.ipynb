{
 "cells": [
  {
   "cell_type": "markdown",
   "source": [
    "# Importação de bibliotecas"
   ],
   "metadata": {
    "collapsed": false,
    "pycharm": {
     "name": "#%% md\n"
    }
   }
  },
  {
   "cell_type": "code",
   "execution_count": 1,
   "outputs": [],
   "source": [
    "import numpy as np\n",
    "from geneticalgorithm_modified import geneticalgorithm as ga\n",
    "from enum import Enum\n",
    "import pandas as pd\n",
    "import timeit\n",
    "import warnings\n",
    "import math\n",
    "warnings.filterwarnings('ignore')"
   ],
   "metadata": {
    "collapsed": false,
    "pycharm": {
     "name": "#%%\n"
    }
   }
  },
  {
   "cell_type": "markdown",
   "source": [
    "# Declaração de funções e classes"
   ],
   "metadata": {
    "collapsed": false,
    "pycharm": {
     "name": "#%% md\n"
    }
   }
  },
  {
   "cell_type": "code",
   "execution_count": 2,
   "outputs": [],
   "source": [
    "class AvaliacaoAlgoritmo:\n",
    "    \"\"\"\n",
    "    Classe para registrar o resultado das execuções de um algoritmo\n",
    "    \"\"\"\n",
    "\n",
    "    def __init__(self,quantidade_repeticoes,lista_parametros):\n",
    "        self.quantidade_repeticoes = quantidade_repeticoes\n",
    "        self.lista_parametros = lista_parametros\n",
    "    def retorna_resultados(self,funcao,nome_algoritmo):\n",
    "        data=[]\n",
    "        for parametro in self.lista_parametros:\n",
    "            for i in range(self.quantidade_repeticoes):\n",
    "                starttime = timeit.default_timer()\n",
    "                custo = funcao(*parametro)\n",
    "                interval =  timeit.default_timer() - starttime\n",
    "                data.append([nome_algoritmo,parametro,custo,interval])\n",
    "        retorno = pd.DataFrame(data=data,columns=['algoritmo','parametro','custo','tempo'])\n",
    "        return retorno\n",
    "def gera_parametro(complexidade):\n",
    "    \"\"\"\n",
    "    Função para gerar parâmetros de acordo com a complexidade ie quantidade de caracteres\n",
    "    A desenvolver\n",
    "    :param complexidade:\n",
    "    :return:\n",
    "    \"\"\"\n",
    "    return ('abcdef','acdef')\n",
    "class Operacoes(Enum):\n",
    "    NOP = 0\n",
    "    SUBSTITUICAO = 1\n",
    "    ADICAO = 2\n",
    "    REMOCAO = 3\n",
    "\n",
    "class ContaOperacoes:\n",
    "    \"\"\"\n",
    "    Classe utilizada para a contagem de operações (adição, remoção, substituição e\n",
    "    manutenção de caractere) para transformar uma string em outra\n",
    "    \"\"\"\n",
    "    def __init__(self,str1,str2):\n",
    "        self.str1=str1\n",
    "        self.str2=str2\n",
    "        self.add_=0\n",
    "        self.sub_=0\n",
    "        self.delete_=0\n",
    "        self.nop_=0\n",
    "        self.error = False\n",
    "\n",
    "    def add(self):\n",
    "        self.add_+=1\n",
    "        return 1\n",
    "    def delete(self):\n",
    "        self.delete_+=1\n",
    "        return 1\n",
    "    def nop(self):\n",
    "        self.nop_+=1\n",
    "        try:\n",
    "            if self.str1[self.sub_+self.delete_+self.nop_-1] == self.str2[self.sub_+self.add_+self.nop_-1]:\n",
    "                return 0\n",
    "            self.error = True\n",
    "            return 3\n",
    "        except IndexError:\n",
    "            return 2\n",
    "    def sub(self):\n",
    "        self.sub_+=1\n",
    "        return 1\n",
    "    def recupera_erros(self):\n",
    "        return abs(len(self.str2) - (len(self.str1) - self.delete_ + self.add_))*3\n",
    "\n",
    "class GeneticDistance:\n",
    "    \"\"\"\n",
    "    Classe com os métodos para o cálculo da distância entre duas strings a\n",
    "    partir do resultado dos algoritmos genéticos, que retornam as operações necessárias\n",
    "    para a alteração da string 1 em 2\n",
    "    \"\"\"\n",
    "\n",
    "    def __init__(self,stringa,stringb):\n",
    "        self.stringa = stringa\n",
    "        self.stringb = stringb\n",
    "        self.na = len(self.stringa)\n",
    "        self.nb = len(self.stringb)\n",
    "        self.n_tamanho = max(self.na,self.nb)\n",
    "\n",
    "\n",
    "    def get_tamanho(self):\n",
    "        return self.n_tamanho\n",
    "\n",
    "    def recupera_caractere_palavra_a(self,n):\n",
    "        if n<=self.na-1:\n",
    "            return self.stringa[n]\n",
    "        else:\n",
    "            return self.stringa[self.na-1]\n",
    "\n",
    "    def recupera_caractere_palavra_b(self,m):\n",
    "        if m<=self.nb-1:\n",
    "            return self.stringb[m]\n",
    "        else:\n",
    "            return self.stringb[self.nb-1]\n",
    "\n",
    "    def custo_otimizado2(self,parametros):\n",
    "        contador = ContaOperacoes(self.stringa,self.stringb)\n",
    "        custo = [contador.add() if i == Operacoes.ADICAO.value else contador.delete() if i==Operacoes.REMOCAO.value else contador.sub() if i == Operacoes.SUBSTITUICAO.value else contador.nop()  for i in parametros]\n",
    "        custo =np.sum(custo)\n",
    "        custo += contador.recupera_erros()\n",
    "        return custo\n",
    "\n",
    "    def custo_otimizado(self,parametros):\n",
    "        custo = 0\n",
    "        adicoes = np.sum([1 if i == Operacoes.ADICAO.value else 0 for i in parametros])\n",
    "        remocoes = np.sum([1 if i == Operacoes.REMOCAO.value else 0 for i in parametros])\n",
    "        substituicoes = np.sum([1 if i == Operacoes.SUBSTITUICAO.value else 0 for i in parametros])\n",
    "        operacoes_nop = [k for k,v in enumerate(parametros) if v == Operacoes.NOP.value]\n",
    "\n",
    "        ultima_operacao_nop=0\n",
    "        adicoes_anteriores=0\n",
    "        remocoes_anteriores=0\n",
    "        substuicoes_anteriores=0\n",
    "\n",
    "        for i in operacoes_nop:\n",
    "            adicoes_anteriores += int(np.sum([1 if parametros[i2] == Operacoes.ADICAO.value else 0 for i2 in range(ultima_operacao_nop,i)]))\n",
    "            remocoes_anteriores +=int(np.sum([1 if parametros[i2] == Operacoes.REMOCAO.value else 0 for i2 in range(ultima_operacao_nop,i)]))\n",
    "            substuicoes_anteriores += int(np.sum([1 if (parametros[i2] == Operacoes.REMOCAO.value) or (parametros[i2] == Operacoes.NOP.value) \\\n",
    "                                                     else 0 for i2 in range(ultima_operacao_nop,i)]))\n",
    "            ultima_operacao_nop=i\n",
    "            try:\n",
    "                if self.stringa[substuicoes_anteriores+remocoes_anteriores] != self.stringb[substuicoes_anteriores+adicoes_anteriores]:\n",
    "                    custo+=4# penalizar no caso de operacoes que indicam substituições e os caracteres são diferentes\n",
    "            except IndexError:\n",
    "                custo+=4\n",
    "        if self.na-remocoes+adicoes != self.nb:\n",
    "            custo+=(remocoes+adicoes)*2#penalizar no caso de operações que não resultariam na correção adequada\n",
    "        custo+=adicoes+remocoes+substituicoes\n",
    "        return custo\n",
    "\n",
    "    def custo(self,parametros):\n",
    "        custo = 0\n",
    "        n,m = (0,0)\n",
    "        for i in range(len(parametros)):\n",
    "            if parametros[i] == Operacoes.NOP.value:\n",
    "                if self.recupera_caractere_palavra_a(n) == self.recupera_caractere_palavra_b(m):\n",
    "                    n+=1\n",
    "                    m+=1\n",
    "                else:\n",
    "                    custo=custo+3 # penalizar situacoes em que caracteres não são iguais e não foi indicada\n",
    "                    #uma operação de alteração\n",
    "            elif parametros[i] == Operacoes.SUBSTITUICAO.value:\n",
    "                n+=1\n",
    "                m+=1\n",
    "                custo+=1\n",
    "            elif parametros[i] == Operacoes.ADICAO.value:\n",
    "                m+=1\n",
    "                custo+=1\n",
    "            elif parametros[i] == Operacoes.REMOCAO.value:\n",
    "                n+=1\n",
    "                custo+=1\n",
    "        if (n != self.na) and (n != self.na+1):\n",
    "            return custo+4\n",
    "        elif m != self.nb:\n",
    "            return custo+4\n",
    "        return custo\n",
    "\n",
    "def distancia_genetic(a,b):\n",
    "    \"\"\"\n",
    "    Função proxy para a utilização de algoritmos genéticos para o cálculo do custo\n",
    "    para a transformação de uma string em outra\n",
    "    :param a: palavra 1\n",
    "    :param b: palavra 2\n",
    "    :return: custo de transformação da string 1 em string 2 segundo o algoritmo genético\n",
    "    \"\"\"\n",
    "    f = GeneticDistance(a,b)\n",
    "    total_populacao=4**(max(len(a),len(b)))\n",
    "    populacao_avaliada = max(total_populacao*0.001,10)\n",
    "    interacoes = max(populacao_avaliada,30)\n",
    "\n",
    "    varbound =  np.array([[0,3]]*f.n_tamanho)\n",
    "    algorithm_param = {'max_num_iteration': interacoes,\\\n",
    "                       'population_size':populacao_avaliada,\\\n",
    "                       'mutation_probability':0.1,\\\n",
    "                       'elit_ratio': 0.01,\\\n",
    "                       'crossover_probability': 0.9,\\\n",
    "                       'parents_portion': 0.3,\\\n",
    "                       'crossover_type':'uniform',\\\n",
    "                       'max_iteration_without_improv':20}\n",
    "    model = ga(function=f.custo_otimizado2,dimension=f.n_tamanho,variable_type='int',variable_boundaries=varbound\\\n",
    "               ,convergence_curve=False,progress_bar=False,\\\n",
    "               algorithm_parameters=algorithm_param)\n",
    "    model.run()\n",
    "    return model.best_function\n",
    "\n",
    "\n",
    "\n",
    "\n",
    "def LevenshteinD(word1, word2):\n",
    "    #\"\"\"Dynamic programming solution\"\"\"\n",
    "    m = len(word1)\n",
    "    n = len(word2)\n",
    "    table = [[0] * (n + 1) for _ in range(m + 1)]\n",
    "\n",
    "    for i in range(m + 1):\n",
    "        table[i][0] = i\n",
    "    for j in range(n + 1):\n",
    "        table[0][j] = j\n",
    "\n",
    "    for i in range(1, m + 1):\n",
    "        for j in range(1, n + 1):\n",
    "            if word1[i - 1] == word2[j - 1]:\n",
    "                table[i][j] = table[i - 1][j - 1]\n",
    "            else:\n",
    "                table[i][j] = 1 + min(table[i - 1][j], table[i][j - 1], table[i - 1][j - 1])\n",
    "\n",
    "    return table[-1][-1]\n"
   ],
   "metadata": {
    "collapsed": false,
    "pycharm": {
     "name": "#%%\n"
    }
   }
  },
  {
   "cell_type": "code",
   "execution_count": 3,
   "outputs": [],
   "source": [
    "\"\"\"\n",
    "\n",
    "\"\"\"\n",
    "str1 ='Amilton'\n",
    "str2 = 'Amilton2'\n"
   ],
   "metadata": {
    "collapsed": false,
    "pycharm": {
     "name": "#%%\n"
    }
   }
  },
  {
   "cell_type": "markdown",
   "source": [
    "# Descrição do problema\n",
    "\n",
    "\n",
    "# Abordagem de algoritmos genéticos (Metaheurística)"
   ],
   "metadata": {
    "collapsed": false,
    "pycharm": {
     "name": "#%% md\n"
    }
   }
  },
  {
   "cell_type": "code",
   "execution_count": 6,
   "outputs": [
    {
     "data": {
      "text/plain": "    algoritmo            parametro  custo     tempo\n15  Genéticos  (Amilton, Amilton2)    1.0  3.411886\n16  Genéticos  (Amilton, Amilton2)    1.0  3.514459\n17  Genéticos  (Amilton, Amilton2)    1.0  4.732972\n18  Genéticos  (Amilton, Amilton2)    1.0  3.991074\n19  Genéticos  (Amilton, Amilton2)    1.0  4.292666",
      "text/html": "<div>\n<style scoped>\n    .dataframe tbody tr th:only-of-type {\n        vertical-align: middle;\n    }\n\n    .dataframe tbody tr th {\n        vertical-align: top;\n    }\n\n    .dataframe thead th {\n        text-align: right;\n    }\n</style>\n<table border=\"1\" class=\"dataframe\">\n  <thead>\n    <tr style=\"text-align: right;\">\n      <th></th>\n      <th>algoritmo</th>\n      <th>parametro</th>\n      <th>custo</th>\n      <th>tempo</th>\n    </tr>\n  </thead>\n  <tbody>\n    <tr>\n      <th>15</th>\n      <td>Genéticos</td>\n      <td>(Amilton, Amilton2)</td>\n      <td>1.0</td>\n      <td>3.411886</td>\n    </tr>\n    <tr>\n      <th>16</th>\n      <td>Genéticos</td>\n      <td>(Amilton, Amilton2)</td>\n      <td>1.0</td>\n      <td>3.514459</td>\n    </tr>\n    <tr>\n      <th>17</th>\n      <td>Genéticos</td>\n      <td>(Amilton, Amilton2)</td>\n      <td>1.0</td>\n      <td>4.732972</td>\n    </tr>\n    <tr>\n      <th>18</th>\n      <td>Genéticos</td>\n      <td>(Amilton, Amilton2)</td>\n      <td>1.0</td>\n      <td>3.991074</td>\n    </tr>\n    <tr>\n      <th>19</th>\n      <td>Genéticos</td>\n      <td>(Amilton, Amilton2)</td>\n      <td>1.0</td>\n      <td>4.292666</td>\n    </tr>\n  </tbody>\n</table>\n</div>"
     },
     "execution_count": 6,
     "metadata": {},
     "output_type": "execute_result"
    }
   ],
   "source": [
    "avaliacao_genetico = AvaliacaoAlgoritmo(20,[(str1,str2)])\n",
    "df = avaliacao_genetico.retorna_resultados(distancia_genetic,'Genéticos')\n",
    "\n",
    "df.tail()"
   ],
   "metadata": {
    "collapsed": false,
    "pycharm": {
     "name": "#%%\n"
    }
   }
  },
  {
   "cell_type": "code",
   "execution_count": 8,
   "outputs": [
    {
     "data": {
      "text/plain": "<AxesSubplot:>"
     },
     "execution_count": 8,
     "metadata": {},
     "output_type": "execute_result"
    },
    {
     "data": {
      "text/plain": "<Figure size 432x288 with 1 Axes>",
      "image/png": "[encoded data removed]"
     },
     "metadata": {
      "needs_background": "light"
     },
     "output_type": "display_data"
    }
   ],
   "source": [
    "df['tempo'].plot()"
   ],
   "metadata": {
    "collapsed": false,
    "pycharm": {
     "name": "#%%\n"
    }
   }
  },
  {
   "cell_type": "code",
   "execution_count": 8,
   "outputs": [],
   "source": [],
   "metadata": {
    "collapsed": false,
    "pycharm": {
     "name": "#%%\n"
    }
   }
  },
  {
   "cell_type": "markdown",
   "source": [
    "# Abordagem programação dinâmica"
   ],
   "metadata": {
    "collapsed": false,
    "pycharm": {
     "name": "#%% md\n"
    }
   }
  },
  {
   "cell_type": "code",
   "execution_count": null,
   "outputs": [],
   "source": [],
   "metadata": {
    "collapsed": false,
    "pycharm": {
     "name": "#%%\n"
    }
   }
  },
  {
   "cell_type": "code",
   "execution_count": 9,
   "outputs": [],
   "source": [
    "avaliacao_levenstein = AvaliacaoAlgoritmo(20,[(str1,str2)])\n",
    "df2 = avaliacao_levenstein.retorna_resultados(LevenshteinD,'levenstein')"
   ],
   "metadata": {
    "collapsed": false,
    "pycharm": {
     "name": "#%%\n"
    }
   }
  },
  {
   "cell_type": "code",
   "execution_count": 11,
   "outputs": [
    {
     "data": {
      "text/plain": "<AxesSubplot:>"
     },
     "execution_count": 11,
     "metadata": {},
     "output_type": "execute_result"
    },
    {
     "data": {
      "text/plain": "<Figure size 432x288 with 1 Axes>",
      "image/png": "[encoded data removed]"
     },
     "metadata": {
      "needs_background": "light"
     },
     "output_type": "display_data"
    }
   ],
   "source": [
    "df2['tempo'].plot()\n"
   ],
   "metadata": {
    "collapsed": false,
    "pycharm": {
     "name": "#%%\n"
    }
   }
  },
  {
   "cell_type": "code",
   "execution_count": null,
   "outputs": [],
   "source": [
    "\n"
   ],
   "metadata": {
    "collapsed": false,
    "pycharm": {
     "name": "#%%\n"
    }
   }
  }
 ],
 "metadata": {
  "kernelspec": {
   "display_name": "Python 3",
   "language": "python",
   "name": "python3"
  },
  "language_info": {
   "codemirror_mode": {
    "name": "ipython",
    "version": 2
   },
   "file_extension": ".py",
   "mimetype": "text/x-python",
   "name": "python",
   "nbconvert_exporter": "python",
   "pygments_lexer": "ipython2",
   "version": "2.7.6"
  }
 },
 "nbformat": 4,
 "nbformat_minor": 0
}