{
 "cells": [
  {
   "cell_type": "markdown",
   "source": [
    "# Importação de bibliotecas"
   ],
   "metadata": {
    "collapsed": false,
    "pycharm": {
     "name": "#%% md\n"
    }
   }
  },
  {
   "cell_type": "code",
   "execution_count": 2,
   "outputs": [],
   "source": [
    "import numpy as np\n",
    "import timeit\n",
    "import warnings\n",
    "warnings.filterwarnings('ignore')\n",
    "import os\n",
    "import sys\n",
    "from src.estrategias.genetic.genetic_task import *\n",
    "from src.estrategias.forca_bruta.brute_force_branch_no_bound import *\n",
    "from src.estrategias.branchbound.branchbound import *\n",
    "import pandas as pd\n"
   ],
   "metadata": {
    "collapsed": false,
    "pycharm": {
     "name": "#%%\n"
    }
   }
  },
  {
   "cell_type": "code",
   "execution_count": 4,
   "outputs": [],
   "source": [
    "class AvaliacaoAlgoritmo:\n",
    "    \"\"\"\n",
    "    Classe para registrar o resultado das execuções de um algoritmo\n",
    "    \"\"\"\n",
    "\n",
    "    def __init__(self,quantidade_repeticoes,lista_parametros):\n",
    "        self.quantidade_repeticoes = quantidade_repeticoes\n",
    "        self.lista_parametros = lista_parametros\n",
    "    def retorna_resultados(self,funcao,nome_algoritmo):\n",
    "        data=[]\n",
    "        for parametro in self.lista_parametros:\n",
    "            for i in range(self.quantidade_repeticoes):\n",
    "                f = open(os.devnull, 'w')\n",
    "                antigo = sys.stdout\n",
    "                sys.stdout = f\n",
    "                starttime = timeit.default_timer()\n",
    "                funcao(*parametro)\n",
    "                interval =  timeit.default_timer() - starttime\n",
    "                sys.stdout = antigo\n",
    "                data.append([nome_algoritmo,parametro,interval])\n",
    "        retorno = pd.DataFrame(data=data,columns=['algoritmo','parametro','tempo'])\n",
    "        return retorno\n",
    "def gera_parametro(qnt_amostras,tam_palavra=0):\n",
    "    \"\"\"\n",
    "    Função para gerar parâmetros de forma ao problema de s2s correction ser np completo\n",
    "    :parameter qnt_amostras: quantidade de amostras a serem retornadas\n",
    "    :return:\n",
    "    \"\"\"\n",
    "    dados_np_completos = pd.read_csv('npcompleto.csv',sep=',')\n",
    "    if tam_palavra>0:\n",
    "        dados_np_completos=dados_np_completos[dados_np_completos.origem.apply(lambda x: len(str(x))==tam_palavra)]\n",
    "\n",
    "    amostra = dados_np_completos.sample(qnt_amostras)\n",
    "    retorno = [(observacao.origem,observacao.destino) for observacao in amostra.itertuples()]\n",
    "    return retorno\n",
    "\n",
    "\n",
    "\n"
   ],
   "metadata": {
    "collapsed": false,
    "pycharm": {
     "name": "#%%\n"
    }
   }
  },
  {
   "cell_type": "markdown",
   "source": [
    "# Descrição do problema"
   ],
   "metadata": {
    "collapsed": false,
    "pycharm": {
     "name": "#%% md\n"
    }
   }
  },
  {
   "cell_type": "markdown",
   "source": [
    "# Abordagem Força Bruta"
   ],
   "metadata": {
    "collapsed": false
   }
  },
  {
   "cell_type": "code",
   "execution_count": 7,
   "outputs": [
    {
     "data": {
      "text/plain": "[('David', 'vida')]"
     },
     "execution_count": 7,
     "metadata": {},
     "output_type": "execute_result"
    }
   ],
   "source": [
    "amostra = gera_parametro(1,5)\n",
    "amostra"
   ],
   "metadata": {
    "collapsed": false,
    "pycharm": {
     "name": "#%%\n"
    }
   }
  },
  {
   "cell_type": "code",
   "execution_count": null,
   "outputs": [],
   "source": [
    "avaliacao = AvaliacaoAlgoritmo(30,amostra)\n",
    "df_forca_bruta = avaliacao.retorna_resultados(roda_brute,'Força Bruta')"
   ],
   "metadata": {
    "collapsed": false,
    "pycharm": {
     "name": "#%%\n",
     "is_executing": true
    }
   }
  },
  {
   "cell_type": "code",
   "execution_count": null,
   "outputs": [],
   "source": [
    "df_forca_bruta.head()"
   ],
   "metadata": {
    "collapsed": false,
    "pycharm": {
     "name": "#%%\n",
     "is_executing": true
    }
   }
  },
  {
   "cell_type": "code",
   "execution_count": null,
   "outputs": [],
   "source": [
    "df_forca_bruta[['tempo']].plot()"
   ],
   "metadata": {
    "collapsed": false,
    "pycharm": {
     "name": "#%%\n",
     "is_executing": true
    }
   }
  },
  {
   "cell_type": "code",
   "execution_count": null,
   "outputs": [],
   "source": [
    "df_forca_bruta.to_csv('resultados_forca_bruta.csv')"
   ],
   "metadata": {
    "collapsed": false,
    "pycharm": {
     "name": "#%%\n",
     "is_executing": true
    }
   }
  },
  {
   "cell_type": "markdown",
   "source": [
    "# Abordagem Branch and Bound"
   ],
   "metadata": {
    "collapsed": false
   }
  },
  {
   "cell_type": "code",
   "execution_count": null,
   "outputs": [],
   "source": [
    "df_branch = avaliacao.retorna_resultados(roda_branch,'Branch and Bound')"
   ],
   "metadata": {
    "collapsed": false,
    "pycharm": {
     "name": "#%%\n",
     "is_executing": true
    }
   }
  },
  {
   "cell_type": "code",
   "execution_count": null,
   "outputs": [],
   "source": [
    "df_branch.head()"
   ],
   "metadata": {
    "collapsed": false,
    "pycharm": {
     "name": "#%%\n",
     "is_executing": true
    }
   }
  },
  {
   "cell_type": "code",
   "execution_count": null,
   "outputs": [],
   "source": [
    "df_branch[['tempo']].plot()"
   ],
   "metadata": {
    "collapsed": false,
    "pycharm": {
     "name": "#%%\n",
     "is_executing": true
    }
   }
  },
  {
   "cell_type": "code",
   "execution_count": null,
   "outputs": [],
   "source": [
    "df_branch.to_csv('resultados_brach_and_bound.csv')"
   ],
   "metadata": {
    "collapsed": false,
    "pycharm": {
     "name": "#%%\n",
     "is_executing": true
    }
   }
  },
  {
   "cell_type": "markdown",
   "source": [
    "# Abordagem de algoritmos genéticos (Metaheurística)"
   ],
   "metadata": {
    "collapsed": false,
    "pycharm": {
     "name": "#%% md\n"
    }
   }
  },
  {
   "cell_type": "code",
   "execution_count": null,
   "outputs": [],
   "source": [
    "df_genetic = avaliacao.retorna_resultados(roda_genetic,'Genetic Algorithm')"
   ],
   "metadata": {
    "collapsed": false,
    "pycharm": {
     "name": "#%%\n",
     "is_executing": true
    }
   }
  },
  {
   "cell_type": "code",
   "execution_count": null,
   "outputs": [],
   "source": [
    "df_genetic.head()"
   ],
   "metadata": {
    "collapsed": false,
    "pycharm": {
     "name": "#%%\n",
     "is_executing": true
    }
   }
  },
  {
   "cell_type": "code",
   "execution_count": null,
   "outputs": [],
   "source": [
    "df_genetic[['tempo']].plot()"
   ],
   "metadata": {
    "collapsed": false,
    "pycharm": {
     "name": "#%%\n",
     "is_executing": true
    }
   }
  },
  {
   "cell_type": "code",
   "execution_count": null,
   "outputs": [],
   "source": [
    "df_genetic.to_csv('resultados_genetic.csv')"
   ],
   "metadata": {
    "collapsed": false,
    "pycharm": {
     "name": "#%%\n",
     "is_executing": true
    }
   }
  },
  {
   "cell_type": "code",
   "execution_count": null,
   "outputs": [],
   "source": [],
   "metadata": {
    "collapsed": false,
    "pycharm": {
     "name": "#%%\n"
    }
   }
  }
 ],
 "metadata": {
  "kernelspec": {
   "display_name": "Python 3",
   "language": "python",
   "name": "python3"
  },
  "language_info": {
   "codemirror_mode": {
    "name": "ipython",
    "version": 2
   },
   "file_extension": ".py",
   "mimetype": "text/x-python",
   "name": "python",
   "nbconvert_exporter": "python",
   "pygments_lexer": "ipython2",
   "version": "2.7.6"
  }
 },
 "nbformat": 4,
 "nbformat_minor": 0
}