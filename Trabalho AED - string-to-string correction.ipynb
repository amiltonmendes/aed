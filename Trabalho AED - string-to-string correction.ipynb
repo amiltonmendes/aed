{
 "cells": [
  {
   "cell_type": "markdown",
   "source": [
    "# Importação de bibliotecas"
   ],
   "metadata": {
    "collapsed": false,
    "pycharm": {
     "name": "#%% md\n"
    }
   }
  },
  {
   "cell_type": "code",
   "execution_count": 1,
   "outputs": [
    {
     "name": "stdout",
     "output_type": "stream",
     "text": [
      "7\n"
     ]
    }
   ],
   "source": [
    "import numpy as np\n",
    "import timeit\n",
    "import warnings\n",
    "warnings.filterwarnings('ignore')\n",
    "import os\n",
    "import sys\n",
    "from src.estrategias.genetic.genetic_task import *\n",
    "from src.estrategias.forca_bruta.brute_force_branch_no_bound import *\n",
    "from src.estrategias.branchbound.branchbound import *\n",
    "import pandas as pd\n"
   ],
   "metadata": {
    "collapsed": false,
    "pycharm": {
     "name": "#%%\n"
    }
   }
  },
  {
   "cell_type": "code",
   "execution_count": 2,
   "outputs": [],
   "source": [
    "class AvaliacaoAlgoritmo:\n",
    "    \"\"\"\n",
    "    Classe para registrar o resultado das execuções de um algoritmo\n",
    "    \"\"\"\n",
    "\n",
    "    def __init__(self,quantidade_repeticoes,lista_parametros):\n",
    "        self.quantidade_repeticoes = quantidade_repeticoes\n",
    "        self.lista_parametros = lista_parametros\n",
    "    def retorna_resultados(self,funcao,nome_algoritmo):\n",
    "        data=[]\n",
    "        for parametro in self.lista_parametros:\n",
    "            for i in range(self.quantidade_repeticoes):\n",
    "                f = open(os.devnull, 'w')\n",
    "                antigo = sys.stdout\n",
    "                sys.stdout = f\n",
    "                starttime = timeit.default_timer()\n",
    "                funcao(*parametro)\n",
    "                interval =  timeit.default_timer() - starttime\n",
    "                sys.stdout = antigo\n",
    "                data.append([nome_algoritmo,parametro,interval])\n",
    "        retorno = pd.DataFrame(data=data,columns=['algoritmo','parametro','tempo'])\n",
    "        return retorno\n",
    "def gera_parametro(complexidade):\n",
    "    \"\"\"\n",
    "    Função para gerar parâmetros de acordo com a complexidade ie quantidade de caracteres\n",
    "    A desenvolver\n",
    "    :param complexidade:\n",
    "    :return:\n",
    "    \"\"\"\n",
    "    if complexidade==4:\n",
    "        return ('abcd','dba')\n",
    "    elif complexidade==7:\n",
    "        return ('abacaxi','ixcaba')\n",
    "\n"
   ],
   "metadata": {
    "collapsed": false,
    "pycharm": {
     "name": "#%%\n"
    }
   }
  },
  {
   "cell_type": "markdown",
   "source": [
    "# Descrição do problema"
   ],
   "metadata": {
    "collapsed": false,
    "pycharm": {
     "name": "#%% md\n"
    }
   }
  },
  {
   "cell_type": "markdown",
   "source": [
    "# Abordagem Força Bruta"
   ],
   "metadata": {
    "collapsed": false
   }
  },
  {
   "cell_type": "code",
   "execution_count": 3,
   "outputs": [],
   "source": [
    "str1,str2 = gera_parametro(4)\n",
    "avaliacao = AvaliacaoAlgoritmo(30,[(str1,str2)])\n",
    "df_forca_bruta = avaliacao.retorna_resultados(roda_brute,'Força Bruta')"
   ],
   "metadata": {
    "collapsed": false,
    "pycharm": {
     "name": "#%%\n"
    }
   }
  },
  {
   "cell_type": "code",
   "execution_count": 4,
   "outputs": [
    {
     "data": {
      "text/plain": "     algoritmo    parametro      tempo\n0  Força Bruta  (abcd, dba)  41.106931\n1  Força Bruta  (abcd, dba)  39.498254\n2  Força Bruta  (abcd, dba)  43.737293\n3  Força Bruta  (abcd, dba)  45.808768\n4  Força Bruta  (abcd, dba)  44.890865",
      "text/html": "<div>\n<style scoped>\n    .dataframe tbody tr th:only-of-type {\n        vertical-align: middle;\n    }\n\n    .dataframe tbody tr th {\n        vertical-align: top;\n    }\n\n    .dataframe thead th {\n        text-align: right;\n    }\n</style>\n<table border=\"1\" class=\"dataframe\">\n  <thead>\n    <tr style=\"text-align: right;\">\n      <th></th>\n      <th>algoritmo</th>\n      <th>parametro</th>\n      <th>tempo</th>\n    </tr>\n  </thead>\n  <tbody>\n    <tr>\n      <th>0</th>\n      <td>Força Bruta</td>\n      <td>(abcd, dba)</td>\n      <td>41.106931</td>\n    </tr>\n    <tr>\n      <th>1</th>\n      <td>Força Bruta</td>\n      <td>(abcd, dba)</td>\n      <td>39.498254</td>\n    </tr>\n    <tr>\n      <th>2</th>\n      <td>Força Bruta</td>\n      <td>(abcd, dba)</td>\n      <td>43.737293</td>\n    </tr>\n    <tr>\n      <th>3</th>\n      <td>Força Bruta</td>\n      <td>(abcd, dba)</td>\n      <td>45.808768</td>\n    </tr>\n    <tr>\n      <th>4</th>\n      <td>Força Bruta</td>\n      <td>(abcd, dba)</td>\n      <td>44.890865</td>\n    </tr>\n  </tbody>\n</table>\n</div>"
     },
     "execution_count": 4,
     "metadata": {},
     "output_type": "execute_result"
    }
   ],
   "source": [
    "df_forca_bruta.head()"
   ],
   "metadata": {
    "collapsed": false,
    "pycharm": {
     "name": "#%%\n"
    }
   }
  },
  {
   "cell_type": "code",
   "execution_count": 5,
   "outputs": [
    {
     "data": {
      "text/plain": "<AxesSubplot:>"
     },
     "execution_count": 5,
     "metadata": {},
     "output_type": "execute_result"
    },
    {
     "data": {
      "text/plain": "<Figure size 432x288 with 1 Axes>",
      "image/png": "[encoded data removed]"
     },
     "metadata": {
      "needs_background": "light"
     },
     "output_type": "display_data"
    }
   ],
   "source": [
    "df_forca_bruta[['tempo']].plot()"
   ],
   "metadata": {
    "collapsed": false,
    "pycharm": {
     "name": "#%%\n"
    }
   }
  },
  {
   "cell_type": "code",
   "execution_count": 6,
   "outputs": [],
   "source": [
    "df_forca_bruta.to_csv('resultados_forca_bruta.csv')"
   ],
   "metadata": {
    "collapsed": false,
    "pycharm": {
     "name": "#%%\n"
    }
   }
  },
  {
   "cell_type": "markdown",
   "source": [
    "# Abordagem Branch and Bound"
   ],
   "metadata": {
    "collapsed": false
   }
  },
  {
   "cell_type": "code",
   "execution_count": 11,
   "outputs": [],
   "source": [
    "df_branch = avaliacao.retorna_resultados(roda_branch,'Branch and Bound')"
   ],
   "metadata": {
    "collapsed": false,
    "pycharm": {
     "name": "#%%\n"
    }
   }
  },
  {
   "cell_type": "code",
   "execution_count": 12,
   "outputs": [
    {
     "data": {
      "text/plain": "          algoritmo    parametro     tempo\n0  Branch and Bound  (abcd, dba)  0.228120\n1  Branch and Bound  (abcd, dba)  0.319270\n2  Branch and Bound  (abcd, dba)  0.207390\n3  Branch and Bound  (abcd, dba)  0.188146\n4  Branch and Bound  (abcd, dba)  0.194379",
      "text/html": "<div>\n<style scoped>\n    .dataframe tbody tr th:only-of-type {\n        vertical-align: middle;\n    }\n\n    .dataframe tbody tr th {\n        vertical-align: top;\n    }\n\n    .dataframe thead th {\n        text-align: right;\n    }\n</style>\n<table border=\"1\" class=\"dataframe\">\n  <thead>\n    <tr style=\"text-align: right;\">\n      <th></th>\n      <th>algoritmo</th>\n      <th>parametro</th>\n      <th>tempo</th>\n    </tr>\n  </thead>\n  <tbody>\n    <tr>\n      <th>0</th>\n      <td>Branch and Bound</td>\n      <td>(abcd, dba)</td>\n      <td>0.228120</td>\n    </tr>\n    <tr>\n      <th>1</th>\n      <td>Branch and Bound</td>\n      <td>(abcd, dba)</td>\n      <td>0.319270</td>\n    </tr>\n    <tr>\n      <th>2</th>\n      <td>Branch and Bound</td>\n      <td>(abcd, dba)</td>\n      <td>0.207390</td>\n    </tr>\n    <tr>\n      <th>3</th>\n      <td>Branch and Bound</td>\n      <td>(abcd, dba)</td>\n      <td>0.188146</td>\n    </tr>\n    <tr>\n      <th>4</th>\n      <td>Branch and Bound</td>\n      <td>(abcd, dba)</td>\n      <td>0.194379</td>\n    </tr>\n  </tbody>\n</table>\n</div>"
     },
     "execution_count": 12,
     "metadata": {},
     "output_type": "execute_result"
    }
   ],
   "source": [
    "df_branch.head()"
   ],
   "metadata": {
    "collapsed": false,
    "pycharm": {
     "name": "#%%\n"
    }
   }
  },
  {
   "cell_type": "code",
   "execution_count": 13,
   "outputs": [
    {
     "data": {
      "text/plain": "<AxesSubplot:>"
     },
     "execution_count": 13,
     "metadata": {},
     "output_type": "execute_result"
    },
    {
     "data": {
      "text/plain": "<Figure size 432x288 with 1 Axes>",
      "image/png": "[encoded data removed]"
     },
     "metadata": {
      "needs_background": "light"
     },
     "output_type": "display_data"
    }
   ],
   "source": [
    "df_branch[['tempo']].plot()"
   ],
   "metadata": {
    "collapsed": false,
    "pycharm": {
     "name": "#%%\n"
    }
   }
  },
  {
   "cell_type": "code",
   "execution_count": 14,
   "outputs": [],
   "source": [
    "df_branch.to_csv('resultados_brach_and_bound.csv')"
   ],
   "metadata": {
    "collapsed": false,
    "pycharm": {
     "name": "#%%\n"
    }
   }
  },
  {
   "cell_type": "markdown",
   "source": [
    "# Abordagem de algoritmos genéticos (Metaheurística)"
   ],
   "metadata": {
    "collapsed": false,
    "pycharm": {
     "name": "#%% md\n"
    }
   }
  },
  {
   "cell_type": "code",
   "execution_count": 15,
   "outputs": [],
   "source": [
    "df_genetic = avaliacao.retorna_resultados(roda_genetic,'Genetic Algorithm')"
   ],
   "metadata": {
    "collapsed": false,
    "pycharm": {
     "name": "#%%\n"
    }
   }
  },
  {
   "cell_type": "code",
   "execution_count": 16,
   "outputs": [
    {
     "data": {
      "text/plain": "           algoritmo    parametro     tempo\n0  Genetic Algorithm  (abcd, dba)  3.054211\n1  Genetic Algorithm  (abcd, dba)  3.708520\n2  Genetic Algorithm  (abcd, dba)  3.240551\n3  Genetic Algorithm  (abcd, dba)  2.900255\n4  Genetic Algorithm  (abcd, dba)  3.361122",
      "text/html": "<div>\n<style scoped>\n    .dataframe tbody tr th:only-of-type {\n        vertical-align: middle;\n    }\n\n    .dataframe tbody tr th {\n        vertical-align: top;\n    }\n\n    .dataframe thead th {\n        text-align: right;\n    }\n</style>\n<table border=\"1\" class=\"dataframe\">\n  <thead>\n    <tr style=\"text-align: right;\">\n      <th></th>\n      <th>algoritmo</th>\n      <th>parametro</th>\n      <th>tempo</th>\n    </tr>\n  </thead>\n  <tbody>\n    <tr>\n      <th>0</th>\n      <td>Genetic Algorithm</td>\n      <td>(abcd, dba)</td>\n      <td>3.054211</td>\n    </tr>\n    <tr>\n      <th>1</th>\n      <td>Genetic Algorithm</td>\n      <td>(abcd, dba)</td>\n      <td>3.708520</td>\n    </tr>\n    <tr>\n      <th>2</th>\n      <td>Genetic Algorithm</td>\n      <td>(abcd, dba)</td>\n      <td>3.240551</td>\n    </tr>\n    <tr>\n      <th>3</th>\n      <td>Genetic Algorithm</td>\n      <td>(abcd, dba)</td>\n      <td>2.900255</td>\n    </tr>\n    <tr>\n      <th>4</th>\n      <td>Genetic Algorithm</td>\n      <td>(abcd, dba)</td>\n      <td>3.361122</td>\n    </tr>\n  </tbody>\n</table>\n</div>"
     },
     "execution_count": 16,
     "metadata": {},
     "output_type": "execute_result"
    }
   ],
   "source": [
    "df_genetic.head()"
   ],
   "metadata": {
    "collapsed": false,
    "pycharm": {
     "name": "#%%\n"
    }
   }
  },
  {
   "cell_type": "code",
   "execution_count": 17,
   "outputs": [
    {
     "data": {
      "text/plain": "<AxesSubplot:>"
     },
     "execution_count": 17,
     "metadata": {},
     "output_type": "execute_result"
    },
    {
     "data": {
      "text/plain": "<Figure size 432x288 with 1 Axes>",
      "image/png": "[encoded data removed]"
     },
     "metadata": {
      "needs_background": "light"
     },
     "output_type": "display_data"
    }
   ],
   "source": [
    "df_genetic[['tempo']].plot()"
   ],
   "metadata": {
    "collapsed": false,
    "pycharm": {
     "name": "#%%\n"
    }
   }
  },
  {
   "cell_type": "code",
   "execution_count": 18,
   "outputs": [],
   "source": [
    "df_genetic.to_csv('resultados_genetic.csv')"
   ],
   "metadata": {
    "collapsed": false,
    "pycharm": {
     "name": "#%%\n"
    }
   }
  },
  {
   "cell_type": "code",
   "execution_count": null,
   "outputs": [],
   "source": [],
   "metadata": {
    "collapsed": false,
    "pycharm": {
     "name": "#%%\n"
    }
   }
  }
 ],
 "metadata": {
  "kernelspec": {
   "display_name": "Python 3",
   "language": "python",
   "name": "python3"
  },
  "language_info": {
   "codemirror_mode": {
    "name": "ipython",
    "version": 2
   },
   "file_extension": ".py",
   "mimetype": "text/x-python",
   "name": "python",
   "nbconvert_exporter": "python",
   "pygments_lexer": "ipython2",
   "version": "2.7.6"
  }
 },
 "nbformat": 4,
 "nbformat_minor": 0
}